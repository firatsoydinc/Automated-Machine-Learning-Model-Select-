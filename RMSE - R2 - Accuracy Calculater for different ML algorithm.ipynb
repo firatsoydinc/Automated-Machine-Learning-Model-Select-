{
 "cells": [
  {
   "cell_type": "markdown",
   "id": "868b130a",
   "metadata": {},
   "source": [
    "### If your target variable is continious"
   ]
  },
  {
   "cell_type": "markdown",
   "id": "dcbd73c2",
   "metadata": {},
   "source": [
    "If you are using MAC LGBM - XGB - Catboost not working. You need to download them from terminal with using following codes. \n",
    "\n",
    "conda install -c conda-forge lightgbm  // brew install libomp  (if you are using M1)\n",
    "conda install catboost\n",
    "conda install xgboost\n",
    "\n",
    "This function can be used after creating independent and dependent variables.\n",
    "X --> independent variable \n",
    "y --> dependent variable\n",
    "\n",
    "\n"
   ]
  },
  {
   "cell_type": "code",
   "execution_count": null,
   "id": "dac340b2",
   "metadata": {},
   "outputs": [],
   "source": [
    "from sklearn.linear_model import LinearRegression\n",
    "from lightgbm import LGBMRegressor\n",
    "from catboost import CatBoostRegressor\n",
    "from sklearn.ensemble import RandomForestRegressor\n",
    "from sklearn.ensemble import GradientBoostingRegressor\n",
    "from sklearn.linear_model import Ridge\n",
    "from sklearn.linear_model import Lasso\n",
    "from sklearn.linear_model import ElasticNet\n",
    "from sklearn.neighbors import KNeighborsRegressor\n",
    "from sklearn.svm import SVR\n",
    "from sklearn.tree import DecisionTreeRegressor\n",
    "from xgboost import XGBRegressor\n",
    "from sklearn.model_selection import train_test_split\n",
    "from sklearn.metrics import mean_squared_error\n",
    "from sklearn.metrics import r2_score\n",
    "import math\n"
   ]
  },
  {
   "cell_type": "code",
   "execution_count": null,
   "id": "fca5d459",
   "metadata": {},
   "outputs": [],
   "source": [
    "def rmse_r2_calculater(X,y,alg):\n",
    "    X_train, X_test, y_train, y_test = train_test_split(X,y,test_size=0.30,random_state=42)\n",
    "    model = alg().fit(X_train, y_train)\n",
    "    y_pred = model.predict(X_test)\n",
    "    RMSE = np.sqrt(mean_squared_error(y_test, y_pred))\n",
    "    RMSE = f'{RMSE:.5f}'[:-1]\n",
    "    r2= r2_score(y_test,y_pred)\n",
    "    r2 = f'{r2:.5f}'[:-1]\n",
    "    model_name = alg.__name__\n",
    "    print(model_name, \"RMSE Score:\",RMSE,'R^2:',r2)"
   ]
  },
  {
   "cell_type": "markdown",
   "id": "58ca6d9a",
   "metadata": {},
   "source": [
    "#### Linear Models"
   ]
  },
  {
   "cell_type": "code",
   "execution_count": null,
   "id": "8c57f598",
   "metadata": {},
   "outputs": [],
   "source": [
    "l_models = [\n",
    "          Ridge,\n",
    "          LinearRegression,\n",
    "          Lasso,\n",
    "          ElasticNet\n",
    "         ]\n",
    "for i in l_models:\n",
    "    rmse_r2_calculater(X,y, i)"
   ]
  },
  {
   "cell_type": "markdown",
   "id": "c3b5cc5a",
   "metadata": {},
   "source": [
    "#### Non-Linear Models"
   ]
  },
  {
   "cell_type": "code",
   "execution_count": null,
   "id": "c8a65527",
   "metadata": {},
   "outputs": [],
   "source": [
    "nl_models = [GradientBoostingRegressor, \n",
    "          RandomForestRegressor, \n",
    "          DecisionTreeRegressor,\n",
    "          KNeighborsRegressor, \n",
    "          SVR,\n",
    "          XGBRegressor,\n",
    "          CatBoostRegressor,\n",
    "          LGBMRegressor\n",
    "\n",
    "         ]\n",
    "for i in nl_models:\n",
    "    rmse_r2_calculater(X,y, i)"
   ]
  },
  {
   "cell_type": "code",
   "execution_count": null,
   "id": "34073b21",
   "metadata": {},
   "outputs": [],
   "source": [
    "df_rmse = pd.DataFrame (rmse, columns = ['RMSE Score'])\n",
    "df_r2 = pd.DataFrame (r_2, columns = ['R^2 Score'])\n",
    "model = ['Ridge',\n",
    "          'LinearRegression',\n",
    "          'Lasso',\n",
    "          'ElasticNet',\n",
    "          'GradientBoostingRegressor', \n",
    "          'RandomForestRegressor', \n",
    "          'DecisionTreeRegressor',\n",
    "          'KNeighborsRegressor', \n",
    "          'SVR',\n",
    "          'XGBRegressor',\n",
    "          'CatBoostRegressor',\n",
    "          'LGBMRegressor'\n",
    "        ]\n",
    "df_models = pd.DataFrame (model, columns = ['Models'])\n",
    "df_rmse_r2= pd.concat([df_rmse,df_r2,df_models],axis=1)\n",
    "df_rmse_r2"
   ]
  },
  {
   "cell_type": "markdown",
   "id": "76d3228f",
   "metadata": {},
   "source": [
    "The create bar plot of the results and compare them."
   ]
  },
  {
   "cell_type": "code",
   "execution_count": null,
   "id": "d2a3fc73",
   "metadata": {},
   "outputs": [],
   "source": [
    "sns.barplot(x= 'RMSE Score', y = 'Models', data=df_rmse_r2, color= 'g')\n",
    "plt.xlabel('RMSE Score')\n",
    "plt.title('RMSE score of the models');"
   ]
  },
  {
   "cell_type": "markdown",
   "id": "7f017b24",
   "metadata": {},
   "source": [
    "### If your target variable is categorical"
   ]
  },
  {
   "cell_type": "code",
   "execution_count": null,
   "id": "d2252ff0",
   "metadata": {},
   "outputs": [],
   "source": [
    "from sklearn.ensemble import RandomForestClassifier\n",
    "from sklearn.neighbors import KNeighborsClassifier\n",
    "from sklearn.ensemble import GradientBoostingClassifier\n",
    "from sklearn.tree import DecisionTreeClassifier\n",
    "from xgboost import XGBClassifier\n",
    "from lightgbm import LGBMClassifier\n",
    "from sklearn.svm import SVC\n",
    "from sklearn.neural_network import MLPClassifier\n",
    "from catboost import CatBoostClassifier\n",
    "from sklearn.metrics import accuracy_score"
   ]
  },
  {
   "cell_type": "code",
   "execution_count": null,
   "id": "86b69af0",
   "metadata": {},
   "outputs": [],
   "source": [
    "def accuracy_calculater(X,y,alg):\n",
    "    X_train, X_test, y_train, y_test = train_test_split(X,y,test_size=0.30,random_state=42)\n",
    "    model = alg().fit(X_train, y_train)\n",
    "    y_pred = model.predict(X_test)\n",
    "    ac=accuracy_score(y_test, y_pred)\n",
    "    model_name = alg.__name__\n",
    "    print(model_name, \"Accuracy Score:\",ac)"
   ]
  },
  {
   "cell_type": "code",
   "execution_count": null,
   "id": "286ff291",
   "metadata": {},
   "outputs": [],
   "source": [
    "models = [RandomForestClassifier,\n",
    "          KNeighborsClassifier,\n",
    "          GradientBoostingClassifier, \n",
    "          DecisionTreeClassifier,\n",
    "          XGBClassifier,\n",
    "          LGBMClassifier,\n",
    "          SVC,\n",
    "          MLPClassifier,\n",
    "          CatBoostClassifier\n",
    "         ]\n",
    "for i in models:\n",
    "    accuracy_calculater(X, y, i)"
   ]
  },
  {
   "cell_type": "code",
   "execution_count": null,
   "id": "b3768ed5",
   "metadata": {},
   "outputs": [],
   "source": [
    "df_accuracy = pd.DataFrame (acc, columns = ['AccuracyScore'])\n",
    "model = ['RandomForestClassifier',\n",
    "          'KNeighborsClassifier',\n",
    "          'GradientBoostingClassifier', \n",
    "          'DecisionTreeClassifier',\n",
    "          'XGBClassifier',\n",
    "          'LGBMClassifier',\n",
    "          'SVC',\n",
    "          'MLPClassifier',\n",
    "          'CatBoostClassifier'\n",
    "         ]\n",
    "df_model = pd.DataFrame (model, columns = ['Models'])\n",
    "df_accm= pd.concat([df_accuracy,df_model],axis=1)\n",
    "df_accm"
   ]
  },
  {
   "cell_type": "markdown",
   "id": "f601d3cd",
   "metadata": {},
   "source": [
    "The create bar plot of the results and compare them."
   ]
  },
  {
   "cell_type": "code",
   "execution_count": null,
   "id": "46cd371a",
   "metadata": {},
   "outputs": [],
   "source": [
    "sns.barplot(x= 'AccuracyScore', y = 'Models', data=df_accm, color=\"r\")\n",
    "plt.xlabel('Accuracy %')\n",
    "plt.title('Accuracy Levels of models');"
   ]
  }
 ],
 "metadata": {
  "kernelspec": {
   "display_name": "Python 3 (ipykernel)",
   "language": "python",
   "name": "python3"
  },
  "language_info": {
   "codemirror_mode": {
    "name": "ipython",
    "version": 3
   },
   "file_extension": ".py",
   "mimetype": "text/x-python",
   "name": "python",
   "nbconvert_exporter": "python",
   "pygments_lexer": "ipython3",
   "version": "3.9.7"
  }
 },
 "nbformat": 4,
 "nbformat_minor": 5
}
